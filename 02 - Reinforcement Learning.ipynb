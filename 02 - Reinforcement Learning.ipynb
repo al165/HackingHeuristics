{
 "cells": [
  {
   "cell_type": "markdown",
   "id": "a8b30aa9",
   "metadata": {},
   "source": [
    "# 02 - Reinforcement Learning "
   ]
  },
  {
   "cell_type": "code",
   "execution_count": 1,
   "id": "d1a48bf1",
   "metadata": {},
   "outputs": [
    {
     "name": "stdout",
     "output_type": "stream",
     "text": [
      "3.10.7 (main, Sep  6 2022, 21:22:27) [GCC 12.2.0]\n"
     ]
    }
   ],
   "source": [
    "import os\n",
    "import sys\n",
    "print(sys.version)"
   ]
  },
  {
   "cell_type": "code",
   "execution_count": 16,
   "id": "10b6b27d",
   "metadata": {},
   "outputs": [],
   "source": [
    "import numpy as np\n",
    "import torch\n",
    "from gymnasium import Env, spaces"
   ]
  },
  {
   "cell_type": "code",
   "execution_count": 2,
   "id": "03cbf220",
   "metadata": {},
   "outputs": [],
   "source": [
    "sys.path.append(\"./SAC-Continuous-Pytorch/\")"
   ]
  },
  {
   "cell_type": "code",
   "execution_count": 3,
   "id": "087d8406",
   "metadata": {},
   "outputs": [],
   "source": [
    "from SAC import SAC_Agent\n",
    "from ReplayBuffer import RandomBuffer, device"
   ]
  },
  {
   "cell_type": "code",
   "execution_count": null,
   "id": "16d0feba",
   "metadata": {},
   "outputs": [],
   "source": []
  },
  {
   "cell_type": "code",
   "execution_count": 8,
   "id": "f498e325",
   "metadata": {},
   "outputs": [],
   "source": [
    "class TranslatorEnv(Env):\n",
    "    def __init__(self):\n",
    "        \n",
    "        ac_low = np.array([0, 0, 0, 0, -1], dtype=np.float32)\n",
    "        ac_high = np.array([1, 1, 1, 1, 1], dtype=np.float32)\n",
    "        ob_low = np.array([-1, -1], dtype=np.float32)\n",
    "        ob_high = np.array([1, 1], dtype=np.float32)\n",
    "        \n",
    "        self.action_space = spaces.Box(low=ac_low, high=ac_high, dtype=np.float32)\n",
    "        self.observation_space = spaces.Box(low=ob_low, high=ob_high, dtype=np.float32)\n",
    "        \n",
    "        self.state = None\n",
    "        \n",
    "        \n",
    "    def reset(self):\n",
    "        \"\"\"Reset environment\"\"\"\n",
    "        super().reset()\n",
    "        \n",
    "        self.state = np.zeros(\n",
    "            self.observation_space.shape, dtype=self.observation_space.dtype\n",
    "        )\n",
    "        \n",
    "        info = dict()\n",
    "        \n",
    "        return self.state, info\n",
    "        \n",
    "    def step(self, action):\n",
    "        \"\"\"\n",
    "        1 - Send action\n",
    "        2 - Recieve next observation and the loss\n",
    "        \n",
    "        Wait for an observation in observation space, and get the reward value.\"\"\"\n",
    "        \n",
    "        if self.state is None:\n",
    "            raise ValueError(\"call reset() before stepping\")\n",
    "        \n",
    "                \n",
    "        reward = 0\n",
    "        info = dict()\n",
    "        \n",
    "        return self.state, reward, False, False, info\n",
    "        \n",
    "    def render(self):\n",
    "        \"\"\"Return an array of pixels rendering the observation_space\"\"\"\n",
    "        return\n",
    "    \n",
    "    def close(self):\n",
    "        \"\"\"End environment simulation\"\"\"\n",
    "        return"
   ]
  },
  {
   "cell_type": "code",
   "execution_count": 17,
   "id": "3a8f314d",
   "metadata": {},
   "outputs": [],
   "source": [
    "class Buffer:\n",
    "    def __init__(self, state_dim, action_dim, max_size=256, device=\"cpu\"):\n",
    "        self.max_size = max_size\n",
    "        self.ptr = 0\n",
    "        self.size = 0\n",
    "        self.state = np.zeros((max_size, state_dim))\n",
    "        self.action = np.zeros((max_size, action_dim))\n",
    "        self.reward = np.zeros((max_size, 1))\n",
    "        self.next_state = np.zeros((max_size, state_dim))\n",
    "        self.dead = np.zeros((max_size, 1),dtype=np.uint8)\n",
    "        self.device = device\n",
    "        \n",
    "    def add(self, state, action, reward, next_state, dead=False):\n",
    "        self.state[self.ptr] = state\n",
    "        self.action[self.ptr] = action\n",
    "        self.reward[self.ptr] = reward\n",
    "        self.next_state[self.ptr] = next_state\n",
    "        self.dead[self.ptr] = dead\n",
    "        \n",
    "        self.ptr = (self.ptr + 1) % self.max_size\n",
    "        self.size = min(self.size + 1, self.max_size)\n",
    "        \n",
    "    def sample(self, batch_size):\n",
    "        ind = np.random.randint(0, self.size, size=batch_size)\n",
    "        \n",
    "        with torch.no_grad():\n",
    "            return (\n",
    "                torch.FloatTensor(self.state[ind]).to(self.device),\n",
    "                torch.FloatTensor(self.action[ind]).to(self.device),\n",
    "                torch.FloatTensor(self.reward[ind]).to(self.device),\n",
    "                torch.FloatTensor(self.next_state[ind]).to(self.device),\n",
    "                torch.FloatTensor(self.dead[ind]).to(self.device),\n",
    "            )"
   ]
  },
  {
   "cell_type": "code",
   "execution_count": 22,
   "id": "64404e4b",
   "metadata": {},
   "outputs": [
    {
     "data": {
      "text/plain": [
       "(array([0., 0.], dtype=float32), {})"
      ]
     },
     "execution_count": 22,
     "metadata": {},
     "output_type": "execute_result"
    }
   ],
   "source": [
    "env = TranslatorEnv()\n",
    "env.reset()"
   ]
  },
  {
   "cell_type": "code",
   "execution_count": 19,
   "id": "812e4715",
   "metadata": {},
   "outputs": [],
   "source": [
    "replay_buffer = Buffer(env.observation_space.shape[0], env.action_space.shape[0])"
   ]
  },
  {
   "cell_type": "code",
   "execution_count": 18,
   "id": "6b748c5c",
   "metadata": {},
   "outputs": [],
   "source": [
    "kwargs = {\n",
    "    \"state_dim\": env.observation_space.shape[0],\n",
    "    \"action_dim\": env.action_space.shape[0],\n",
    "    \"gamma\": 0.99,\n",
    "    \"hid_shape\": (12, 12),\n",
    "    \"a_lr\": 0.0001,\n",
    "    \"c_lr\": 0.0001,\n",
    "    \"batch_size\": 1,\n",
    "    \"alpha\": 0.12,\n",
    "    \"adaptive_alpha\": False,\n",
    "}"
   ]
  },
  {
   "cell_type": "code",
   "execution_count": 13,
   "id": "57f5e56c",
   "metadata": {},
   "outputs": [],
   "source": [
    "model = SAC_Agent(**kwargs)"
   ]
  },
  {
   "cell_type": "code",
   "execution_count": 39,
   "id": "31d16255",
   "metadata": {},
   "outputs": [
    {
     "data": {
      "text/plain": [
       "array([ 0.83334345,  0.28204784,  0.7860619 , -0.5530963 , -0.67943853],\n",
       "      dtype=float32)"
      ]
     },
     "execution_count": 39,
     "metadata": {},
     "output_type": "execute_result"
    }
   ],
   "source": [
    "model.select_action(env.state, False)"
   ]
  },
  {
   "cell_type": "code",
   "execution_count": null,
   "id": "1369d8e7",
   "metadata": {},
   "outputs": [],
   "source": []
  },
  {
   "cell_type": "code",
   "execution_count": null,
   "id": "8890d46a",
   "metadata": {},
   "outputs": [],
   "source": []
  },
  {
   "cell_type": "code",
   "execution_count": null,
   "id": "7b67a620",
   "metadata": {},
   "outputs": [],
   "source": []
  },
  {
   "cell_type": "code",
   "execution_count": null,
   "id": "4064769a",
   "metadata": {},
   "outputs": [],
   "source": []
  },
  {
   "cell_type": "code",
   "execution_count": null,
   "id": "ef42a0d7",
   "metadata": {},
   "outputs": [],
   "source": []
  },
  {
   "cell_type": "code",
   "execution_count": null,
   "id": "351f43e1",
   "metadata": {},
   "outputs": [],
   "source": []
  },
  {
   "cell_type": "markdown",
   "id": "4ab63962",
   "metadata": {},
   "source": [
    "### Flow:\n",
    "\n",
    "1. Get current state and loss of each user ( $= dist(z^{(i)}_t, O)$ )\n",
    "2. Predict actions for each user for next step $y^{(i)}_t$   from `model.select_action(state[i], deterministic=True)`\n"
   ]
  },
  {
   "cell_type": "code",
   "execution_count": null,
   "id": "435ca7ae",
   "metadata": {},
   "outputs": [],
   "source": []
  },
  {
   "cell_type": "code",
   "execution_count": null,
   "id": "b1d73586",
   "metadata": {},
   "outputs": [],
   "source": []
  },
  {
   "cell_type": "code",
   "execution_count": null,
   "id": "c6522043",
   "metadata": {},
   "outputs": [],
   "source": []
  },
  {
   "cell_type": "code",
   "execution_count": null,
   "id": "58404aee",
   "metadata": {},
   "outputs": [],
   "source": []
  },
  {
   "cell_type": "code",
   "execution_count": null,
   "id": "6460d7ac",
   "metadata": {},
   "outputs": [],
   "source": []
  },
  {
   "cell_type": "code",
   "execution_count": null,
   "id": "94f090fb",
   "metadata": {},
   "outputs": [],
   "source": []
  },
  {
   "cell_type": "code",
   "execution_count": null,
   "id": "d1d8d380",
   "metadata": {},
   "outputs": [],
   "source": []
  },
  {
   "cell_type": "code",
   "execution_count": null,
   "id": "0dc485f8",
   "metadata": {},
   "outputs": [],
   "source": []
  },
  {
   "cell_type": "code",
   "execution_count": null,
   "id": "8eee92a4",
   "metadata": {},
   "outputs": [],
   "source": []
  },
  {
   "cell_type": "code",
   "execution_count": null,
   "id": "83ca5e23",
   "metadata": {},
   "outputs": [],
   "source": []
  },
  {
   "cell_type": "code",
   "execution_count": null,
   "id": "dc58e18e",
   "metadata": {},
   "outputs": [],
   "source": []
  },
  {
   "cell_type": "code",
   "execution_count": null,
   "id": "10c35fdf",
   "metadata": {},
   "outputs": [],
   "source": []
  },
  {
   "cell_type": "code",
   "execution_count": null,
   "id": "e2b5f2d5",
   "metadata": {},
   "outputs": [],
   "source": []
  }
 ],
 "metadata": {
  "kernelspec": {
   "display_name": "Python 3 (ipykernel)",
   "language": "python",
   "name": "python3"
  },
  "language_info": {
   "codemirror_mode": {
    "name": "ipython",
    "version": 3
   },
   "file_extension": ".py",
   "mimetype": "text/x-python",
   "name": "python",
   "nbconvert_exporter": "python",
   "pygments_lexer": "ipython3",
   "version": "3.10.7"
  }
 },
 "nbformat": 4,
 "nbformat_minor": 5
}
