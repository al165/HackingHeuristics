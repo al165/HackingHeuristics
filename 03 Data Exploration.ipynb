{
 "cells": [
  {
   "cell_type": "markdown",
   "id": "e877e12c",
   "metadata": {},
   "source": [
    "# Data Exploration "
   ]
  },
  {
   "cell_type": "code",
   "execution_count": 1,
   "id": "045fa50e",
   "metadata": {},
   "outputs": [],
   "source": [
    "%matplotlib inline\n",
    "%reload_ext autoreload\n",
    "%autoreload 2"
   ]
  },
  {
   "cell_type": "code",
   "execution_count": 2,
   "id": "82f4ad52",
   "metadata": {},
   "outputs": [
    {
     "name": "stdout",
     "output_type": "stream",
     "text": [
      "3.10.9 (main, Dec 19 2022, 17:35:49) [GCC 12.2.0]\n"
     ]
    }
   ],
   "source": [
    "import os\n",
    "import sys\n",
    "print(sys.version)\n",
    "\n",
    "from pathlib import Path\n",
    "\n",
    "import numpy as np\n",
    "import matplotlib.pyplot as plt\n",
    "\n",
    "import torch"
   ]
  },
  {
   "cell_type": "code",
   "execution_count": 53,
   "id": "d1e195e2",
   "metadata": {},
   "outputs": [],
   "source": [
    "sys.path.extend([\"./SERVER/deployment/\", \"./SERVER/\"])"
   ]
  },
  {
   "cell_type": "code",
   "execution_count": 67,
   "id": "b8ba1693",
   "metadata": {},
   "outputs": [],
   "source": [
    "from networks import LinearNetwork, VAENetwork, SACModel"
   ]
  },
  {
   "cell_type": "markdown",
   "id": "646d861d",
   "metadata": {},
   "source": [
    "### Load checkpoints "
   ]
  },
  {
   "cell_type": "code",
   "execution_count": 68,
   "id": "e3330035",
   "metadata": {},
   "outputs": [],
   "source": [
    "DATA_ROOT = Path('./SERVER/checkpoints/')"
   ]
  },
  {
   "cell_type": "code",
   "execution_count": 69,
   "id": "aee3c664",
   "metadata": {},
   "outputs": [
    {
     "name": "stdout",
     "output_type": "stream",
     "text": [
      "113\n"
     ]
    }
   ],
   "source": [
    "checkpoints = sorted(DATA_ROOT.glob(\"*.pth\"))\n",
    "print(len(checkpoints))"
   ]
  },
  {
   "cell_type": "markdown",
   "id": "91a9d7fe",
   "metadata": {},
   "source": [
    "### Load models "
   ]
  },
  {
   "cell_type": "code",
   "execution_count": 70,
   "id": "41682e48",
   "metadata": {},
   "outputs": [],
   "source": [
    "from server import embedder_params, decision_params, translator_params"
   ]
  },
  {
   "cell_type": "code",
   "execution_count": 83,
   "id": "5e85048c",
   "metadata": {},
   "outputs": [
    {
     "name": "stdout",
     "output_type": "stream",
     "text": [
      "debug: xxxxxxxx 140081492888304\n"
     ]
    }
   ],
   "source": [
    "embedder_network = VAENetwork(embedder_params, live_train=False)\n",
    "embedder_network.model.eval()\n",
    "translator = SACModel(**translator_params);"
   ]
  },
  {
   "cell_type": "code",
   "execution_count": 84,
   "id": "6cb9be06",
   "metadata": {},
   "outputs": [],
   "source": [
    "data = torch.load('./SERVER/checkpoints/20230322_152848.pth')\n",
    "translator.load(data[\"sac\"])\n",
    "embedder_network.model.load_state_dict(data[\"embedder\"])\n",
    "\n",
    "if \"buffer\" in data:\n",
    "    translator.training_data.from_dict(data[\"buffer\"])"
   ]
  },
  {
   "cell_type": "code",
   "execution_count": null,
   "id": "7fcdfb8a",
   "metadata": {},
   "outputs": [],
   "source": []
  },
  {
   "cell_type": "code",
   "execution_count": null,
   "id": "c91e770e",
   "metadata": {},
   "outputs": [],
   "source": []
  },
  {
   "cell_type": "code",
   "execution_count": null,
   "id": "296d8cc4",
   "metadata": {},
   "outputs": [],
   "source": []
  },
  {
   "cell_type": "markdown",
   "id": "06105dac",
   "metadata": {},
   "source": [
    "### Create Data"
   ]
  },
  {
   "cell_type": "code",
   "execution_count": 85,
   "id": "d5e4738b",
   "metadata": {},
   "outputs": [],
   "source": [
    "FEATURE_VECTOR_MAP = [\n",
    "    \"EEG:mean\",\n",
    "    \"EEG:delta\",\n",
    "    \"EOG:all_rate\",\n",
    "    \"EOG:p_rate\",\n",
    "    \"EOG:n_rate\",\n",
    "    \"GSR:mean\",\n",
    "    \"GSR:delta\",\n",
    "    \"heart:std\",\n",
    "]\n",
    "\n",
    "OUTPUT_VECTOR = [\n",
    "    \"ampl\",\n",
    "    \"freq\",\n",
    "    \"durn\",\n",
    "    \"idly\",\n",
    "    \"temp1\",\n",
    "    \"temp2\",\n",
    "]\n",
    "\n",
    "OUTPUT_VECTOR_RANGES = {\n",
    "    \"ampl\": [3, 6],\n",
    "    \"freq\": [1, 100],\n",
    "    \"durn\": [0, 2000],\n",
    "    \"idly\": [0, 255],\n",
    "    \"temp1\": [-2, 2],\n",
    "    \"temp2\": [-2, 2],\n",
    "}"
   ]
  },
  {
   "cell_type": "markdown",
   "id": "ff6b3180",
   "metadata": {},
   "source": [
    "### Interaction "
   ]
  },
  {
   "cell_type": "code",
   "execution_count": 86,
   "id": "f5dadf7b",
   "metadata": {},
   "outputs": [],
   "source": [
    "import ipywidgets as widgets\n",
    "from ipywidgets import HBox, VBox\n",
    "from IPython.display import display"
   ]
  },
  {
   "cell_type": "code",
   "execution_count": 87,
   "id": "519c1d13",
   "metadata": {},
   "outputs": [],
   "source": [
    "sliders = dict()\n",
    "for feature in FEATURE_VECTOR_MAP:\n",
    "    slider = widgets.FloatSlider(\n",
    "        min=0.0, max=1.0, step=0.01, description=feature\n",
    "    )\n",
    "    sliders[feature] = slider\n",
    "\n",
    "btn = widgets.Button(description=\"go!\")\n",
    "output = widgets.Output()"
   ]
  },
  {
   "cell_type": "code",
   "execution_count": 88,
   "id": "8c7ff696",
   "metadata": {},
   "outputs": [],
   "source": [
    "@btn.on_click\n",
    "def go(b):\n",
    "    step()"
   ]
  },
  {
   "cell_type": "code",
   "execution_count": 101,
   "id": "e3fd01c4",
   "metadata": {},
   "outputs": [],
   "source": [
    "def step():\n",
    "    x = torch.tensor([sliders[s].value for s in FEATURE_VECTOR_MAP])\n",
    "    \n",
    "    with torch.no_grad():\n",
    "        z = embedder_network.model.encode(x).numpy()\n",
    "    \n",
    "    output.clear_output()\n",
    "    with output:\n",
    "        plt.scatter(z[0], z[1])\n",
    "        plt.ylim(-0.5, 0.5)\n",
    "        plt.xlim(-0.1, 0.1)\n",
    "        plt.show()"
   ]
  },
  {
   "cell_type": "code",
   "execution_count": 102,
   "id": "e0b0dafa",
   "metadata": {},
   "outputs": [
    {
     "data": {
      "application/vnd.jupyter.widget-view+json": {
       "model_id": "f4e7d781cea645d2be0e5877611375ee",
       "version_major": 2,
       "version_minor": 0
      },
      "text/plain": [
       "FloatSlider(value=1.0, description='EEG:mean', max=1.0, step=0.01)"
      ]
     },
     "metadata": {},
     "output_type": "display_data"
    },
    {
     "data": {
      "application/vnd.jupyter.widget-view+json": {
       "model_id": "8ab0075a7b7c4ad582bb79a3b52ac71b",
       "version_major": 2,
       "version_minor": 0
      },
      "text/plain": [
       "FloatSlider(value=1.0, description='EEG:delta', max=1.0, step=0.01)"
      ]
     },
     "metadata": {},
     "output_type": "display_data"
    },
    {
     "data": {
      "application/vnd.jupyter.widget-view+json": {
       "model_id": "342719e17758449890ec8b51d9dd8d95",
       "version_major": 2,
       "version_minor": 0
      },
      "text/plain": [
       "FloatSlider(value=0.0, description='EOG:all_rate', max=1.0, step=0.01)"
      ]
     },
     "metadata": {},
     "output_type": "display_data"
    },
    {
     "data": {
      "application/vnd.jupyter.widget-view+json": {
       "model_id": "d87ed7ea83e84632874da5b538ff300f",
       "version_major": 2,
       "version_minor": 0
      },
      "text/plain": [
       "FloatSlider(value=0.95, description='EOG:p_rate', max=1.0, step=0.01)"
      ]
     },
     "metadata": {},
     "output_type": "display_data"
    },
    {
     "data": {
      "application/vnd.jupyter.widget-view+json": {
       "model_id": "2e863acdf7b24521b41feba7b55c819f",
       "version_major": 2,
       "version_minor": 0
      },
      "text/plain": [
       "FloatSlider(value=1.0, description='EOG:n_rate', max=1.0, step=0.01)"
      ]
     },
     "metadata": {},
     "output_type": "display_data"
    },
    {
     "data": {
      "application/vnd.jupyter.widget-view+json": {
       "model_id": "10e8ceb7da714ca384bb1c763006e88f",
       "version_major": 2,
       "version_minor": 0
      },
      "text/plain": [
       "FloatSlider(value=1.0, description='GSR:mean', max=1.0, step=0.01)"
      ]
     },
     "metadata": {},
     "output_type": "display_data"
    },
    {
     "data": {
      "application/vnd.jupyter.widget-view+json": {
       "model_id": "052ba11e8db14677937047631425f04e",
       "version_major": 2,
       "version_minor": 0
      },
      "text/plain": [
       "FloatSlider(value=1.0, description='GSR:delta', max=1.0, step=0.01)"
      ]
     },
     "metadata": {},
     "output_type": "display_data"
    },
    {
     "data": {
      "application/vnd.jupyter.widget-view+json": {
       "model_id": "187231e8acc84127a46522c369d9de67",
       "version_major": 2,
       "version_minor": 0
      },
      "text/plain": [
       "FloatSlider(value=1.0, description='heart:std', max=1.0, step=0.01)"
      ]
     },
     "metadata": {},
     "output_type": "display_data"
    },
    {
     "data": {
      "application/vnd.jupyter.widget-view+json": {
       "model_id": "f421b9f88b6240d1bace10e0f26d8340",
       "version_major": 2,
       "version_minor": 0
      },
      "text/plain": [
       "Button(description='go!', style=ButtonStyle())"
      ]
     },
     "metadata": {},
     "output_type": "display_data"
    }
   ],
   "source": [
    "for feature in FEATURE_VECTOR_MAP:\n",
    "    display(sliders[feature])\n",
    "display(btn)"
   ]
  },
  {
   "cell_type": "code",
   "execution_count": 103,
   "id": "a0dad3f1",
   "metadata": {},
   "outputs": [
    {
     "data": {
      "application/vnd.jupyter.widget-view+json": {
       "model_id": "2a94068d3ecd4bc581d9969057df1045",
       "version_major": 2,
       "version_minor": 0
      },
      "text/plain": [
       "Output(outputs=({'output_type': 'display_data', 'data': {'text/plain': '<Figure size 432x288 with 1 Axes>', 'i…"
      ]
     },
     "metadata": {},
     "output_type": "display_data"
    }
   ],
   "source": [
    "display(output)"
   ]
  },
  {
   "cell_type": "code",
   "execution_count": null,
   "id": "68063871",
   "metadata": {},
   "outputs": [],
   "source": []
  },
  {
   "cell_type": "code",
   "execution_count": null,
   "id": "6f1c5ab3",
   "metadata": {},
   "outputs": [],
   "source": []
  },
  {
   "cell_type": "code",
   "execution_count": null,
   "id": "bd632812",
   "metadata": {},
   "outputs": [],
   "source": []
  },
  {
   "cell_type": "code",
   "execution_count": null,
   "id": "6c0cfa50",
   "metadata": {},
   "outputs": [],
   "source": []
  },
  {
   "cell_type": "code",
   "execution_count": null,
   "id": "dde282e8",
   "metadata": {},
   "outputs": [],
   "source": []
  },
  {
   "cell_type": "code",
   "execution_count": null,
   "id": "ebbc125c",
   "metadata": {},
   "outputs": [],
   "source": []
  },
  {
   "cell_type": "code",
   "execution_count": null,
   "id": "adc512e5",
   "metadata": {},
   "outputs": [],
   "source": []
  },
  {
   "cell_type": "code",
   "execution_count": null,
   "id": "c05649a0",
   "metadata": {},
   "outputs": [],
   "source": []
  },
  {
   "cell_type": "code",
   "execution_count": 108,
   "id": "5fec1714",
   "metadata": {},
   "outputs": [
    {
     "data": {
      "image/png": "[encoded data removed]",
      "text/plain": [
       "<Figure size 576x288 with 1 Axes>"
      ]
     },
     "metadata": {},
     "output_type": "display_data"
    },
    {
     "data": {
      "application/vnd.jupyter.widget-view+json": {
       "model_id": "1465a54d66ca4160996a187a03dbf4dd",
       "version_major": 2,
       "version_minor": 0
      },
      "text/plain": [
       "FloatSlider(value=2.0, description='k', max=3.0, min=1.0)"
      ]
     },
     "metadata": {},
     "output_type": "display_data"
    },
    {
     "data": {
      "application/vnd.jupyter.widget-view+json": {
       "model_id": "9d28953f1bfc4ce9852a534ecaf342c8",
       "version_major": 2,
       "version_minor": 0
      },
      "text/plain": [
       "FloatSlider(value=6.0, description='A', max=20.0, min=1.0)"
      ]
     },
     "metadata": {},
     "output_type": "display_data"
    }
   ],
   "source": [
    "x = np.linspace(0,30,31)\n",
    "fig, ax = plt.subplots(1, figsize=(8, 4))\n",
    "plt.suptitle('Weibull-Verteilung f(v)')\n",
    "\n",
    "def update_plot(k, A):\n",
    "    \n",
    "    \"\"\"\n",
    "    die Funtion plottet die Kurve erneut, wenn über\n",
    "    die slider ein Wert geändert wird\n",
    "    \"\"\"\n",
    "        \n",
    "    # erstmal wieder die Zeichnung löschen\n",
    "    ax.clear()\n",
    "    \n",
    "    # neuen Verlauf berechnen\n",
    "    f_x = k/A*(x/A)**(k-1)*np.exp(-(x/A)**k)\n",
    "    \n",
    "    print(f_x)\n",
    "    \n",
    "    # und den neuen Verlauf plotten\n",
    "    ax.plot(x, f_x, c='red')\n",
    "    plt.show()\n",
    "    \n",
    "k = widgets.FloatSlider(min=1, max=3, value=2, description='k')\n",
    "A = widgets.FloatSlider(min=1, max=20, value=6, description='A', position= 200)\n",
    "   \n",
    "# sobald einer der slider geändert wird, wird neu geplottet\n",
    "widgets.interactive(update_plot, k=k, A=A)\n",
    "display(k, A)"
   ]
  },
  {
   "cell_type": "code",
   "execution_count": null,
   "id": "cda13cce",
   "metadata": {},
   "outputs": [],
   "source": []
  },
  {
   "cell_type": "code",
   "execution_count": null,
   "id": "672799d0",
   "metadata": {},
   "outputs": [],
   "source": []
  },
  {
   "cell_type": "code",
   "execution_count": 111,
   "id": "895b6ba2",
   "metadata": {},
   "outputs": [
    {
     "data": {
      "application/vnd.jupyter.widget-view+json": {
       "model_id": "9ab604c636d84126a8e0f52d4c93e9f9",
       "version_major": 2,
       "version_minor": 0
      },
      "text/plain": [
       "interactive(children=(IntSlider(value=5, description='n', max=10), Output()), _dom_classes=('widget-interact',…"
      ]
     },
     "metadata": {},
     "output_type": "display_data"
    },
    {
     "data": {
      "text/plain": [
       "<function __main__.f(n)>"
      ]
     },
     "execution_count": 111,
     "metadata": {},
     "output_type": "execute_result"
    }
   ],
   "source": [
    "def f(n):\n",
    "    plt.plot([0,1,2],[0,1,n])\n",
    "    print(\"adf\")\n",
    "    plt.show()\n",
    "widgets.interact(f,n=(0,10))"
   ]
  },
  {
   "cell_type": "code",
   "execution_count": null,
   "id": "25edb34c",
   "metadata": {},
   "outputs": [],
   "source": []
  },
  {
   "cell_type": "code",
   "execution_count": null,
   "id": "6ef258cc",
   "metadata": {},
   "outputs": [],
   "source": []
  },
  {
   "cell_type": "code",
   "execution_count": null,
   "id": "22f9e772",
   "metadata": {},
   "outputs": [],
   "source": []
  },
  {
   "cell_type": "code",
   "execution_count": null,
   "id": "813ac4b3",
   "metadata": {},
   "outputs": [],
   "source": []
  },
  {
   "cell_type": "code",
   "execution_count": null,
   "id": "e6022ac5",
   "metadata": {},
   "outputs": [],
   "source": [
    "class B:\n",
    "    def __init__(self):\n",
    "        self.arr = np.zeros((3, 7))\n",
    "        \n",
    "    def update(self, i, x):\n",
    "        self.arr[i] = np.copy(x)\n",
    "        \n",
    "    def to_dict(self):\n",
    "        return {\n",
    "            \"arr\": self.arr\n",
    "        }\n",
    "    \n",
    "    \n",
    "class Server:\n",
    "    def __init__(self):\n",
    "        self.b = B()\n",
    "        \n",
    "    def run(self):\n",
    "        self.b.update(0, np.ones(7))\n",
    "        \n",
    "    def save(self):\n",
    "        print(self.b.to_dict())"
   ]
  },
  {
   "cell_type": "code",
   "execution_count": null,
   "id": "b9cc9f86",
   "metadata": {},
   "outputs": [],
   "source": [
    "server = Server()"
   ]
  },
  {
   "cell_type": "code",
   "execution_count": null,
   "id": "7e9d7df8",
   "metadata": {},
   "outputs": [],
   "source": [
    "server.b.arr"
   ]
  },
  {
   "cell_type": "code",
   "execution_count": null,
   "id": "82f6b1a5",
   "metadata": {},
   "outputs": [],
   "source": [
    "server.run()"
   ]
  },
  {
   "cell_type": "code",
   "execution_count": null,
   "id": "b11f68e4",
   "metadata": {},
   "outputs": [],
   "source": [
    "server.b.arr"
   ]
  },
  {
   "cell_type": "code",
   "execution_count": null,
   "id": "0dd4b7ca",
   "metadata": {},
   "outputs": [],
   "source": [
    "server.save()"
   ]
  },
  {
   "cell_type": "code",
   "execution_count": null,
   "id": "307230d8",
   "metadata": {},
   "outputs": [],
   "source": []
  },
  {
   "cell_type": "code",
   "execution_count": null,
   "id": "cb3e7c1e",
   "metadata": {},
   "outputs": [],
   "source": []
  },
  {
   "cell_type": "code",
   "execution_count": null,
   "id": "20647990",
   "metadata": {},
   "outputs": [],
   "source": [
    "from time import sleep\n",
    "import threading"
   ]
  },
  {
   "cell_type": "code",
   "execution_count": null,
   "id": "f22bcb05",
   "metadata": {},
   "outputs": [],
   "source": [
    "class Buf:\n",
    "    def __init__(self):\n",
    "        self.arr = np.zeros((3, 7))\n",
    "        \n",
    "    def update(self, i, x):\n",
    "        self.arr[i] = np.copy(x)\n",
    "        \n",
    "    def to_dict(self):\n",
    "        return {\n",
    "            \"arr\": self.arr\n",
    "        }\n",
    "    \n",
    "    \n",
    "class Server(threading.Thread):\n",
    "    def __init__(self):\n",
    "        super(Server, self).__init__()\n",
    "        self.b = Buf()\n",
    "        \n",
    "        self.stop = threading.Event()\n",
    "        \n",
    "    def run(self):\n",
    "        self.stop.set()\n",
    "        self.save()\n",
    "        while self.stop.is_set():\n",
    "            try:\n",
    "                print(\"loop\")\n",
    "                self.b.update(0, np.random.random(7))\n",
    "                sleep(2)\n",
    "                self.save()\n",
    "            except KeyboardInterrupt:\n",
    "                print(\"keyboard interupt\")\n",
    "                self.save()\n",
    "                self.stop.clear()\n",
    "        \n",
    "    def save(self):\n",
    "        print(self.b.to_dict())\n",
    "        \n",
    "    def join(self):\n",
    "        self.save()\n",
    "        self.stop.clear()\n",
    "        super().join()"
   ]
  },
  {
   "cell_type": "code",
   "execution_count": null,
   "id": "dd3bd2ff",
   "metadata": {},
   "outputs": [],
   "source": []
  },
  {
   "cell_type": "code",
   "execution_count": null,
   "id": "054a9066",
   "metadata": {},
   "outputs": [],
   "source": []
  },
  {
   "cell_type": "code",
   "execution_count": null,
   "id": "9725d2fa",
   "metadata": {},
   "outputs": [],
   "source": []
  },
  {
   "cell_type": "code",
   "execution_count": null,
   "id": "2efe72bf",
   "metadata": {},
   "outputs": [],
   "source": []
  }
 ],
 "metadata": {
  "kernelspec": {
   "display_name": "Python 3 (ipykernel)",
   "language": "python",
   "name": "python3"
  },
  "language_info": {
   "codemirror_mode": {
    "name": "ipython",
    "version": 3
   },
   "file_extension": ".py",
   "mimetype": "text/x-python",
   "name": "python",
   "nbconvert_exporter": "python",
   "pygments_lexer": "ipython3",
   "version": "3.10.9"
  }
 },
 "nbformat": 4,
 "nbformat_minor": 5
}
