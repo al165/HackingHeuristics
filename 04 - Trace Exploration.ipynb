{
 "cells": [
  {
   "cell_type": "markdown",
   "id": "b7c36df7",
   "metadata": {},
   "source": [
    "# Trace Exploration "
   ]
  },
  {
   "cell_type": "code",
   "execution_count": 1,
   "id": "f40e2bf4",
   "metadata": {},
   "outputs": [],
   "source": [
    "%matplotlib inline"
   ]
  },
  {
   "cell_type": "code",
   "execution_count": 2,
   "id": "060b8aa8",
   "metadata": {},
   "outputs": [
    {
     "name": "stdout",
     "output_type": "stream",
     "text": [
      "3.10.8 (main, Nov  1 2022, 14:18:21) [GCC 12.2.0]\n"
     ]
    }
   ],
   "source": [
    "import os\n",
    "import sys\n",
    "print(sys.version)\n",
    "\n",
    "from pathlib import Path\n",
    "\n",
    "import numpy as np\n",
    "import pandas as pd\n",
    "import matplotlib.pyplot as plt\n",
    "from matplotlib import colormaps\n",
    "from matplotlib.collections import LineCollection\n",
    "\n",
    "import ipywidgets as widgets"
   ]
  },
  {
   "cell_type": "code",
   "execution_count": 3,
   "id": "7b34aa13",
   "metadata": {},
   "outputs": [],
   "source": [
    "sys.path.append(\"./SERVER/deployment/\")"
   ]
  },
  {
   "cell_type": "code",
   "execution_count": 4,
   "id": "8b898d8a",
   "metadata": {},
   "outputs": [],
   "source": [
    "from config import FEATURE_VECTOR_MAP, OUTPUT_VECTOR, OUTPUT_VECTOR_RANGES"
   ]
  },
  {
   "cell_type": "code",
   "execution_count": 5,
   "id": "4e74b141",
   "metadata": {},
   "outputs": [],
   "source": [
    "plt.rcParams[\"figure.figsize\"] = (15, 5)\n",
    "plt.style.use(\"dark_background\")\n",
    "cmap = colormaps.get_cmap(\"rainbow\")"
   ]
  },
  {
   "cell_type": "markdown",
   "id": "dd42fb31",
   "metadata": {},
   "source": [
    "### Load data "
   ]
  },
  {
   "cell_type": "code",
   "execution_count": 6,
   "id": "27f2e8cf",
   "metadata": {},
   "outputs": [],
   "source": [
    "sessions = sorted(Path(\"./SERVER/sessions/\").glob(\"Session*\"))\n",
    "root = sessions[-1]\n",
    "save_path = Path(\"./EXPERIENCE_POLAROIDS\")/root.parts[-1]\n",
    "save_path.mkdir(parents=True, exist_ok=True)"
   ]
  },
  {
   "cell_type": "code",
   "execution_count": 7,
   "id": "aa221583",
   "metadata": {},
   "outputs": [
    {
     "name": "stdout",
     "output_type": "stream",
     "text": [
      "SERVER/sessions/Session_20230325_132110\n"
     ]
    }
   ],
   "source": [
    "print(root)"
   ]
  },
  {
   "cell_type": "code",
   "execution_count": 8,
   "id": "67d394da",
   "metadata": {
    "scrolled": false
   },
   "outputs": [
    {
     "data": {
      "application/vnd.jupyter.widget-view+json": {
       "model_id": "f2b77a99910d4f8fad1d97d94f26b97f",
       "version_major": 2,
       "version_minor": 0
      },
      "text/plain": [
       "interactive(children=(Dropdown(description='headset', options=('ESP0', 'ESP3', 'ESP5', 'ESP6', 'ESP7'), value=…"
      ]
     },
     "metadata": {},
     "output_type": "display_data"
    }
   ],
   "source": [
    "fps = root.glob(\"*.csv\")\n",
    "esps = sorted([x.parts[-1][:-4] for x in fps])\n",
    "df = None\n",
    "\n",
    "@widgets.interact\n",
    "def selectESP(headset=esps):\n",
    "    global df\n",
    "    if headset is None:\n",
    "        print(\"No recorded ESPs in session\", root)\n",
    "        return\n",
    "        \n",
    "    df = pd.read_csv(root/(headset+\".csv\"))\n",
    "    if len(df) == 0:\n",
    "        print(\"No data recorded for\", headset)\n",
    "        return\n",
    "    \n",
    "    df[\"time\"] = pd.to_datetime(df[\"time\"], unit='s')\n",
    "    esp = int(headset[-1])\n",
    "    \n",
    "    fig, axes = plt.subplots(3, figsize=(8, 8), sharex=False, dpi=200)\n",
    "    for i, f in enumerate(FEATURE_VECTOR_MAP):\n",
    "        y = df[f]\n",
    "        y = (y - y.min()) / (y.max() - y.min())\n",
    "        c = cmap(i/len(FEATURE_VECTOR_MAP))\n",
    "        if f[0] == 'h':\n",
    "            f = \"heart:delta\"\n",
    "        axes[0].plot(df.time, y, label=f, lw=2)\n",
    "    axes[0].set_yticks([])\n",
    "    axes[0].set_ylabel(\"sensor data\", fontsize=14)\n",
    "    axes[0].legend(loc='upper center', bbox_to_anchor=(0.5, 1.15), ncol=4, framealpha=1.0)\n",
    "    axes[0].set_xlim(df[\"time\"].iloc[0], df[\"time\"].iloc[-1])\n",
    "        \n",
    "    for i, f in enumerate(OUTPUT_VECTOR):\n",
    "        y = df[f]\n",
    "        y = (y - y.min()) / (y.max() - y.min())\n",
    "        c = cmap(i/len(FEATURE_VECTOR_MAP))\n",
    "        axes[1].plot(df.time, y, label=f, lw=2)  \n",
    "    axes[1].set_yticks([])\n",
    "    axes[1].set_ylabel(\"stimulus\", fontsize=14)\n",
    "    axes[1].legend(loc='upper center', bbox_to_anchor=(0.5, 1.1), ncol=6, framealpha=1.0)\n",
    "    axes[1].set_xlim(df[\"time\"].iloc[0], df[\"time\"].iloc[-1])\n",
    "    \n",
    "    points = np.array(df[[\"map_x\", \"map_y\"]]).reshape(-1, 1, 2)\n",
    "    segs = np.concatenate([points[:-1], points[1:]], axis=1)\n",
    "    alphas = np.linspace(0.0, 1.0, len(segs))\n",
    "    lc = LineCollection(segments=segs, alpha=0.5, lw=3, color=f'C{esp}')\n",
    "    axes[2].add_collection(lc)\n",
    "    axes[2].set_xlim(-1, 1)\n",
    "    axes[2].set_ylim(-1, 1)\n",
    "    axes[2].set_yticks([]); axes[2].set_xticks([])\n",
    "    axes[2].set_ylabel(\"map\", fontsize=14)\n",
    "    \n",
    "    fig.autofmt_xdate()\n",
    "    plt.suptitle(f\"Experience of {headset}\", fontsize=16)\n",
    "    plt.tight_layout()\n",
    "    plt.savefig(save_path/(headset+\".png\"))\n",
    "    plt.show()"
   ]
  },
  {
   "cell_type": "code",
   "execution_count": null,
   "id": "ff3bb8bc",
   "metadata": {},
   "outputs": [],
   "source": []
  },
  {
   "cell_type": "code",
   "execution_count": null,
   "id": "52cc7c6f",
   "metadata": {},
   "outputs": [],
   "source": []
  },
  {
   "cell_type": "code",
   "execution_count": null,
   "id": "112ab79a",
   "metadata": {},
   "outputs": [],
   "source": []
  },
  {
   "cell_type": "code",
   "execution_count": null,
   "id": "e33678cd",
   "metadata": {},
   "outputs": [],
   "source": []
  },
  {
   "cell_type": "code",
   "execution_count": null,
   "id": "673c40e0",
   "metadata": {},
   "outputs": [],
   "source": []
  },
  {
   "cell_type": "code",
   "execution_count": null,
   "id": "6227aa59",
   "metadata": {},
   "outputs": [],
   "source": []
  },
  {
   "cell_type": "code",
   "execution_count": null,
   "id": "dc48a43e",
   "metadata": {},
   "outputs": [],
   "source": []
  }
 ],
 "metadata": {
  "kernelspec": {
   "display_name": "Python 3 (ipykernel)",
   "language": "python",
   "name": "python3"
  },
  "language_info": {
   "codemirror_mode": {
    "name": "ipython",
    "version": 3
   },
   "file_extension": ".py",
   "mimetype": "text/x-python",
   "name": "python",
   "nbconvert_exporter": "python",
   "pygments_lexer": "ipython3",
   "version": "3.10.8"
  }
 },
 "nbformat": 4,
 "nbformat_minor": 5
}
